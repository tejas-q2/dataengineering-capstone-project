{
 "cells": [
  {
   "cell_type": "markdown",
   "id": "5023782b",
   "metadata": {},
   "source": [
    "# Weather Data Analysis for Pune\n",
    "\n",
    "This notebook fetches weather data using the OpenWeatherMap API and performs analysis using pandas and matplotlib."
   ]
  },
  {
   "cell_type": "code",
   "execution_count": 8,
   "id": "21e0fd8b",
   "metadata": {},
   "outputs": [
    {
     "name": "stdout",
     "output_type": "stream",
     "text": [
      "Fetching weather data...\n",
      "\n",
      "Weather data fetched successfully. Sample data:\n",
      "             datetime   temp  humidity\n",
      "0 2025-09-21 20:30:00  24.18        90\n",
      "1 2025-09-21 23:30:00  23.32        92\n",
      "\n",
      "Connecting to PostgreSQL...\n",
      "\n",
      "Inserting data into database.\n",
      "Data successfully stored in PostgreSQL database!\n",
      "Database connection closed.\n",
      "\n",
      "Weather data fetched successfully. Sample data:\n",
      "             datetime   temp  humidity\n",
      "0 2025-09-21 20:30:00  24.18        90\n",
      "1 2025-09-21 23:30:00  23.32        92\n",
      "\n",
      "Connecting to PostgreSQL...\n",
      "\n",
      "Inserting data into database.\n",
      "Data successfully stored in PostgreSQL database!\n",
      "Database connection closed.\n"
     ]
    }
   ],
   "source": [
    "import requests\n",
    "import pandas as pd\n",
    "import psycopg2\n",
    "from datetime import datetime\n",
    "\n",
    "try:\n",
    "    url = f'https://api.openweathermap.org/data/2.5/forecast?q=Pune&appid=4a3d30bd5afd12dfabd8eb4b30be3809&units=metric'\n",
    "    \n",
    "    print(\"Fetching weather data...\")\n",
    "    response = requests.get(url)\n",
    "    response.raise_for_status()\n",
    "    weather_json = response.json()\n",
    "    \n",
    "    data = []\n",
    "    for item in weather_json['list']:\n",
    "        data.append({\n",
    "            'datetime': datetime.fromtimestamp(item['dt']),\n",
    "            'temp': item['main']['temp'],\n",
    "            'humidity': item['main']['humidity']\n",
    "        })\n",
    "    \n",
    "    df = pd.DataFrame(data)\n",
    "    \n",
    "    print(\"\\nWeather data fetched successfully. Sample data:\")\n",
    "    print(df.head(2))\n",
    "    \n",
    "    print(\"\\nConnecting to PostgreSQL...\")\n",
    "    conn = psycopg2.connect(\n",
    "        dbname=\"tejas\",\n",
    "        user=\"postgres\",\n",
    "        password=\"tejas2027\",\n",
    "        host=\"localhost\",\n",
    "        port=\"5432\"\n",
    "    )\n",
    "    \n",
    "    cur = conn.cursor()\n",
    "    \n",
    "    create_table_query = \"\"\"\n",
    "    CREATE TABLE IF NOT EXISTS weather_data (\n",
    "        id SERIAL PRIMARY KEY,\n",
    "        city VARCHAR(100),\n",
    "        datetime TIMESTAMP,\n",
    "        temp FLOAT,\n",
    "        humidity FLOAT\n",
    "    );\n",
    "    \"\"\"\n",
    "    cur.execute(create_table_query)\n",
    "    \n",
    "    print(\"\\nInserting data into database.\")\n",
    "    for _, row in df.iterrows():\n",
    "        cur.execute(\n",
    "            \"INSERT INTO weather_data (city, datetime, temp, humidity) VALUES (%s, %s, %s, %s)\",\n",
    "            (\"Pune\", row['datetime'], row['temp'], row['humidity'])\n",
    "        )\n",
    "    \n",
    "    conn.commit()\n",
    "    print(\"Data successfully stored in PostgreSQL database!\")\n",
    "\n",
    "except requests.exceptions.RequestException as e:\n",
    "    print(f\"Error fetching weather data: {e}\")\n",
    "except psycopg2.Error as e:\n",
    "    print(f\"Database error: {e}\")\n",
    "except Exception as e:\n",
    "    print(f\"An unexpected error occurred: {e}\")\n",
    "finally:\n",
    "    if 'conn' in locals() and conn is not None:\n",
    "        cur.close()\n",
    "        conn.close()\n",
    "        print(\"Database connection closed.\")"
   ]
  },
  {
   "cell_type": "code",
   "execution_count": null,
   "id": "7a844247",
   "metadata": {},
   "outputs": [
    {
     "name": "stdout",
     "output_type": "stream",
     "text": [
      "The Predicted Temperatures for Next 10 days in Pune are as follows:\n",
      "\n",
      "Day +1: 23.66 °F\n",
      "Day +2: 23.67 °F\n",
      "Day +3: 23.68 °F\n",
      "Day +4: 23.68 °F\n",
      "Day +5: 23.69 °F\n",
      "Day +6: 23.70 °F\n",
      "Day +7: 23.70 °F\n",
      "Day +8: 23.71 °F\n",
      "Day +9: 23.72 °F\n",
      "Day +10: 23.72 °F\n"
     ]
    },
    {
     "name": "stderr",
     "output_type": "stream",
     "text": [
      "c:\\Users\\tejas\\OneDrive\\Desktop\\DE\\.venv\\Lib\\site-packages\\sklearn\\utils\\validation.py:2749: UserWarning: X does not have valid feature names, but LinearRegression was fitted with feature names\n",
      "  warnings.warn(\n"
     ]
    }
   ],
   "source": [
    "import numpy as np \n",
    "from sklearn.linear_model import LinearRegression\n",
    "\n",
    "# Add a \"day\" column \n",
    "df['day'] = np.arange(len(df))\n",
    "\n",
    "X = df[[\"day\"]]\n",
    "y = df[\"temp\"]\n",
    "\n",
    "\n",
    "model = LinearRegression()\n",
    "model.fit(X, y)\n",
    "\n",
    "# Predict the next 10 days\n",
    "future_days = np.arange(len(df), len(df) + 10).reshape(-1, 1)\n",
    "predictions = model.predict(future_days)\n",
    "\n",
    "print(\"The Predicted Temperatures for Next 10 days in Pune are as follows:\\n\")\n",
    "\n",
    "for i, temp in enumerate(predictions, 1):\n",
    "    print(f\"Day +{i}: {temp:.2f} °F\")\n"
   ]
  }
 ],
 "metadata": {
  "kernelspec": {
   "display_name": ".venv",
   "language": "python",
   "name": "python3"
  },
  "language_info": {
   "codemirror_mode": {
    "name": "ipython",
    "version": 3
   },
   "file_extension": ".py",
   "mimetype": "text/x-python",
   "name": "python",
   "nbconvert_exporter": "python",
   "pygments_lexer": "ipython3",
   "version": "3.13.3"
  }
 },
 "nbformat": 4,
 "nbformat_minor": 5
}
